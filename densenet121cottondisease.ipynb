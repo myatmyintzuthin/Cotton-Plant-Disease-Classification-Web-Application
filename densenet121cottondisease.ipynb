{
 "cells": [
  {
   "cell_type": "code",
   "execution_count": 1,
   "id": "color-methodology",
   "metadata": {
    "_cell_guid": "b1076dfc-b9ad-4769-8c92-a6c4dae69d19",
    "_uuid": "8f2839f25d086af736a60e9eeb907d3b93b6e0e5",
    "execution": {
     "iopub.execute_input": "2021-06-08T10:27:33.776643Z",
     "iopub.status.busy": "2021-06-08T10:27:33.775983Z",
     "iopub.status.idle": "2021-06-08T10:27:39.441537Z",
     "shell.execute_reply": "2021-06-08T10:27:39.440935Z",
     "shell.execute_reply.started": "2021-06-07T07:19:59.967664Z"
    },
    "papermill": {
     "duration": 5.686857,
     "end_time": "2021-06-08T10:27:39.441683",
     "exception": false,
     "start_time": "2021-06-08T10:27:33.754826",
     "status": "completed"
    },
    "tags": []
   },
   "outputs": [],
   "source": [
    "import tensorflow \n",
    "\n",
    "import pandas as pd\n",
    "import numpy as np\n",
    "import os\n",
    "import keras\n",
    "import random\n",
    "import cv2\n",
    "import math\n",
    "import seaborn as sns\n",
    "\n",
    "from sklearn.metrics import confusion_matrix\n",
    "from sklearn.preprocessing import LabelBinarizer\n",
    "from sklearn.model_selection import train_test_split\n",
    "\n",
    "import matplotlib.pyplot as plt\n",
    "\n",
    "from tensorflow.keras.layers import Dense,GlobalAveragePooling2D,Convolution2D,BatchNormalization\n",
    "from tensorflow.keras.layers import Flatten,MaxPooling2D,Dropout\n",
    "\n",
    "from tensorflow.keras.applications import DenseNet121\n",
    "from tensorflow.keras.applications.densenet import preprocess_input\n",
    "\n",
    "from tensorflow.keras.preprocessing import image\n",
    "from tensorflow.keras.preprocessing.image import ImageDataGenerator,img_to_array\n",
    "\n",
    "from tensorflow.keras.models import Model\n",
    "\n",
    "from tensorflow.keras.optimizers import Adam\n",
    "\n",
    "from tensorflow.keras.callbacks import ModelCheckpoint, ReduceLROnPlateau\n",
    "\n",
    "import warnings\n",
    "warnings.filterwarnings(\"ignore\")"
   ]
  },
  {
   "cell_type": "code",
   "execution_count": 2,
   "id": "exotic-civilization",
   "metadata": {
    "execution": {
     "iopub.execute_input": "2021-06-08T10:27:39.463072Z",
     "iopub.status.busy": "2021-06-08T10:27:39.462490Z",
     "iopub.status.idle": "2021-06-08T10:27:39.467607Z",
     "shell.execute_reply": "2021-06-08T10:27:39.467203Z",
     "shell.execute_reply.started": "2021-06-07T07:20:01.4383Z"
    },
    "papermill": {
     "duration": 0.016712,
     "end_time": "2021-06-08T10:27:39.467713",
     "exception": false,
     "start_time": "2021-06-08T10:27:39.451001",
     "status": "completed"
    },
    "tags": []
   },
   "outputs": [
    {
     "name": "stdout",
     "output_type": "stream",
     "text": [
      "Tensorflow-version: 2.4.1\n"
     ]
    }
   ],
   "source": [
    "print(\"Tensorflow-version:\", tensorflow.__version__)"
   ]
  },
  {
   "cell_type": "code",
   "execution_count": 3,
   "id": "differential-dryer",
   "metadata": {
    "execution": {
     "iopub.execute_input": "2021-06-08T10:27:39.491620Z",
     "iopub.status.busy": "2021-06-08T10:27:39.491123Z",
     "iopub.status.idle": "2021-06-08T10:27:44.541097Z",
     "shell.execute_reply": "2021-06-08T10:27:44.540536Z",
     "shell.execute_reply.started": "2021-06-07T07:20:01.452185Z"
    },
    "papermill": {
     "duration": 5.065603,
     "end_time": "2021-06-08T10:27:44.541225",
     "exception": false,
     "start_time": "2021-06-08T10:27:39.475622",
     "status": "completed"
    },
    "tags": []
   },
   "outputs": [
    {
     "name": "stdout",
     "output_type": "stream",
     "text": [
      "Downloading data from https://storage.googleapis.com/tensorflow/keras-applications/densenet/densenet121_weights_tf_dim_ordering_tf_kernels_notop.h5\n",
      "29089792/29084464 [==============================] - 0s 0us/step\n"
     ]
    }
   ],
   "source": [
    "model_d=DenseNet121(weights='imagenet',include_top=False, input_shape=(256, 256, 3)) \n",
    "\n",
    "x=model_d.output\n",
    "\n",
    "x= GlobalAveragePooling2D()(x)\n",
    "x= BatchNormalization()(x)\n",
    "x= Dropout(0.5)(x)\n",
    "x= Dense(1024,activation='relu')(x) \n",
    "x= Dense(512,activation='relu')(x) \n",
    "x= BatchNormalization()(x)\n",
    "x= Dropout(0.5)(x)\n",
    "\n",
    "preds=Dense(4,activation='softmax')(x) #FC-layer"
   ]
  },
  {
   "cell_type": "code",
   "execution_count": 4,
   "id": "golden-throat",
   "metadata": {
    "execution": {
     "iopub.execute_input": "2021-06-08T10:27:44.567940Z",
     "iopub.status.busy": "2021-06-08T10:27:44.567257Z",
     "iopub.status.idle": "2021-06-08T10:27:44.591470Z",
     "shell.execute_reply": "2021-06-08T10:27:44.591037Z",
     "shell.execute_reply.started": "2021-06-07T07:20:06.420879Z"
    },
    "papermill": {
     "duration": 0.039488,
     "end_time": "2021-06-08T10:27:44.591581",
     "exception": false,
     "start_time": "2021-06-08T10:27:44.552093",
     "status": "completed"
    },
    "tags": []
   },
   "outputs": [],
   "source": [
    "model=Model(inputs=model_d.input,outputs=preds)\n",
    "#model.summary()"
   ]
  },
  {
   "cell_type": "code",
   "execution_count": 5,
   "id": "patent-bradford",
   "metadata": {
    "execution": {
     "iopub.execute_input": "2021-06-08T10:27:44.628557Z",
     "iopub.status.busy": "2021-06-08T10:27:44.627315Z",
     "iopub.status.idle": "2021-06-08T10:27:44.629610Z",
     "shell.execute_reply": "2021-06-08T10:27:44.630061Z",
     "shell.execute_reply.started": "2021-06-07T07:20:06.455076Z"
    },
    "papermill": {
     "duration": 0.028773,
     "end_time": "2021-06-08T10:27:44.630203",
     "exception": false,
     "start_time": "2021-06-08T10:27:44.601430",
     "status": "completed"
    },
    "tags": []
   },
   "outputs": [],
   "source": [
    "for layer in model.layers[:-8]:\n",
    "    layer.trainable=False\n",
    "    \n",
    "for layer in model.layers[-8:]:\n",
    "    layer.trainable=True"
   ]
  },
  {
   "cell_type": "code",
   "execution_count": 6,
   "id": "cubic-survivor",
   "metadata": {
    "execution": {
     "iopub.execute_input": "2021-06-08T10:27:44.656987Z",
     "iopub.status.busy": "2021-06-08T10:27:44.656288Z",
     "iopub.status.idle": "2021-06-08T10:27:44.671212Z",
     "shell.execute_reply": "2021-06-08T10:27:44.671611Z",
     "shell.execute_reply.started": "2021-06-07T07:20:06.478142Z"
    },
    "papermill": {
     "duration": 0.032184,
     "end_time": "2021-06-08T10:27:44.671735",
     "exception": false,
     "start_time": "2021-06-08T10:27:44.639551",
     "status": "completed"
    },
    "tags": []
   },
   "outputs": [],
   "source": [
    "model.compile(optimizer='Adam',loss='categorical_crossentropy',metrics=['accuracy'])\n",
    "#model.summary()"
   ]
  },
  {
   "cell_type": "code",
   "execution_count": 7,
   "id": "packed-iceland",
   "metadata": {
    "execution": {
     "iopub.execute_input": "2021-06-08T10:27:44.696183Z",
     "iopub.status.busy": "2021-06-08T10:27:44.695639Z",
     "iopub.status.idle": "2021-06-08T10:27:45.221699Z",
     "shell.execute_reply": "2021-06-08T10:27:45.220662Z",
     "shell.execute_reply.started": "2021-06-07T07:20:06.505722Z"
    },
    "papermill": {
     "duration": 0.540319,
     "end_time": "2021-06-08T10:27:45.221861",
     "exception": false,
     "start_time": "2021-06-08T10:27:44.681542",
     "status": "completed"
    },
    "tags": []
   },
   "outputs": [
    {
     "name": "stdout",
     "output_type": "stream",
     "text": [
      "Found 1951 images belonging to 4 classes.\n",
      "Found 106 images belonging to 4 classes.\n"
     ]
    }
   ],
   "source": [
    "trdata = ImageDataGenerator(rescale = 1./255,\n",
    "                                   shear_range = 0.2,\n",
    "                                   zoom_range = 0.2,\n",
    "                                   horizontal_flip = True)\n",
    "\n",
    "tsdata = ImageDataGenerator(rescale = 1./255)\n",
    "traindata = trdata.flow_from_directory(directory=\"../input/cotton-disease-dataset/Cotton Disease/train\",target_size=(256,256),batch_size = 32,\n",
    "                                                 class_mode = 'categorical')\n",
    "testdata = tsdata.flow_from_directory(directory=\"../input/cotton-disease-dataset/Cotton Disease/test\", target_size=(256,256),batch_size = 32,\n",
    "                                                 class_mode = 'categorical')"
   ]
  },
  {
   "cell_type": "code",
   "execution_count": 8,
   "id": "collected-disabled",
   "metadata": {
    "execution": {
     "iopub.execute_input": "2021-06-08T10:27:45.254245Z",
     "iopub.status.busy": "2021-06-08T10:27:45.253636Z",
     "iopub.status.idle": "2021-06-08T10:40:34.573784Z",
     "shell.execute_reply": "2021-06-08T10:40:34.574348Z",
     "shell.execute_reply.started": "2021-06-07T07:20:06.837181Z"
    },
    "papermill": {
     "duration": 769.341224,
     "end_time": "2021-06-08T10:40:34.574503",
     "exception": false,
     "start_time": "2021-06-08T10:27:45.233279",
     "status": "completed"
    },
    "tags": []
   },
   "outputs": [
    {
     "name": "stdout",
     "output_type": "stream",
     "text": [
      "Epoch 1/20\n",
      "61/61 [==============================] - 61s 851ms/step - loss: 0.9600 - accuracy: 0.6804 - val_loss: 0.3171 - val_accuracy: 0.9151\n",
      "Epoch 2/20\n",
      "61/61 [==============================] - 38s 617ms/step - loss: 0.3720 - accuracy: 0.8851 - val_loss: 0.2725 - val_accuracy: 0.9151\n",
      "Epoch 3/20\n",
      "61/61 [==============================] - 37s 609ms/step - loss: 0.2854 - accuracy: 0.9095 - val_loss: 0.2024 - val_accuracy: 0.9623\n",
      "Epoch 4/20\n",
      "61/61 [==============================] - 37s 608ms/step - loss: 0.2818 - accuracy: 0.9044 - val_loss: 0.2071 - val_accuracy: 0.9245\n",
      "Epoch 5/20\n",
      "61/61 [==============================] - 37s 607ms/step - loss: 0.2245 - accuracy: 0.9241 - val_loss: 0.1855 - val_accuracy: 0.9528\n",
      "Epoch 6/20\n",
      "61/61 [==============================] - 37s 610ms/step - loss: 0.2474 - accuracy: 0.9222 - val_loss: 0.1180 - val_accuracy: 0.9623\n",
      "Epoch 7/20\n",
      "61/61 [==============================] - 37s 602ms/step - loss: 0.1949 - accuracy: 0.9285 - val_loss: 0.1724 - val_accuracy: 0.9528\n",
      "Epoch 8/20\n",
      "61/61 [==============================] - 37s 604ms/step - loss: 0.1682 - accuracy: 0.9401 - val_loss: 0.1111 - val_accuracy: 0.9528\n",
      "Epoch 9/20\n",
      "61/61 [==============================] - 37s 610ms/step - loss: 0.2057 - accuracy: 0.9236 - val_loss: 0.1058 - val_accuracy: 0.9717\n",
      "Epoch 10/20\n",
      "61/61 [==============================] - 37s 607ms/step - loss: 0.1565 - accuracy: 0.9442 - val_loss: 0.1196 - val_accuracy: 0.9717\n",
      "Epoch 11/20\n",
      "61/61 [==============================] - 38s 614ms/step - loss: 0.1494 - accuracy: 0.9416 - val_loss: 0.1207 - val_accuracy: 0.9623\n",
      "Epoch 12/20\n",
      "61/61 [==============================] - 37s 606ms/step - loss: 0.1589 - accuracy: 0.9430 - val_loss: 0.1548 - val_accuracy: 0.9528\n",
      "Epoch 13/20\n",
      "61/61 [==============================] - 37s 605ms/step - loss: 0.1617 - accuracy: 0.9430 - val_loss: 0.1512 - val_accuracy: 0.9623\n",
      "Epoch 14/20\n",
      "61/61 [==============================] - 37s 610ms/step - loss: 0.1493 - accuracy: 0.9452 - val_loss: 0.1156 - val_accuracy: 0.9717\n",
      "Epoch 15/20\n",
      "61/61 [==============================] - 37s 609ms/step - loss: 0.1778 - accuracy: 0.9393 - val_loss: 0.0996 - val_accuracy: 0.9717\n",
      "Epoch 16/20\n",
      "61/61 [==============================] - 37s 608ms/step - loss: 0.1453 - accuracy: 0.9468 - val_loss: 0.1049 - val_accuracy: 0.9717\n",
      "Epoch 17/20\n",
      "61/61 [==============================] - 38s 616ms/step - loss: 0.1443 - accuracy: 0.9532 - val_loss: 0.0783 - val_accuracy: 0.9717\n",
      "Epoch 18/20\n",
      "61/61 [==============================] - 37s 611ms/step - loss: 0.1460 - accuracy: 0.9447 - val_loss: 0.0522 - val_accuracy: 0.9811\n",
      "Epoch 19/20\n",
      "61/61 [==============================] - 38s 616ms/step - loss: 0.1235 - accuracy: 0.9540 - val_loss: 0.0763 - val_accuracy: 0.9623\n",
      "Epoch 20/20\n",
      "61/61 [==============================] - 37s 608ms/step - loss: 0.1241 - accuracy: 0.9570 - val_loss: 0.0788 - val_accuracy: 0.9717\n"
     ]
    }
   ],
   "source": [
    "from keras.callbacks import ModelCheckpoint, EarlyStopping\n",
    "checkpoint = ModelCheckpoint(\"densenet.h5\", monitor='val_acc', verbose=1, save_best_only=True, save_weights_only=False, mode='auto', period=1)\n",
    "early = EarlyStopping(monitor='val_acc', min_delta=0, patience=20, verbose=1, mode='auto')\n",
    "\n",
    "history = model.fit_generator( traindata,validation_data=testdata,epochs=20,callbacks=[checkpoint,early])"
   ]
  },
  {
   "cell_type": "code",
   "execution_count": 9,
   "id": "subject-section",
   "metadata": {
    "execution": {
     "iopub.execute_input": "2021-06-08T10:40:35.278198Z",
     "iopub.status.busy": "2021-06-08T10:40:35.277314Z",
     "iopub.status.idle": "2021-06-08T10:40:39.844063Z",
     "shell.execute_reply": "2021-06-08T10:40:39.844634Z",
     "shell.execute_reply.started": "2021-06-07T07:33:45.620235Z"
    },
    "papermill": {
     "duration": 4.944449,
     "end_time": "2021-06-08T10:40:39.844815",
     "exception": false,
     "start_time": "2021-06-08T10:40:34.900366",
     "status": "completed"
    },
    "tags": []
   },
   "outputs": [
    {
     "name": "stdout",
     "output_type": "stream",
     "text": [
      "4/4 [==============================] - 4s 793ms/step - loss: 0.0788 - accuracy: 0.9717\n",
      "Test set accuracy: 97.16981053352356\n"
     ]
    }
   ],
   "source": [
    "accuracy = model.evaluate(testdata)\n",
    "\n",
    "print('Test set accuracy:', accuracy[1]*100)"
   ]
  },
  {
   "cell_type": "code",
   "execution_count": 10,
   "id": "arctic-sender",
   "metadata": {
    "execution": {
     "iopub.execute_input": "2021-06-08T10:40:40.564403Z",
     "iopub.status.busy": "2021-06-08T10:40:40.553336Z",
     "iopub.status.idle": "2021-06-08T10:40:40.811465Z",
     "shell.execute_reply": "2021-06-08T10:40:40.810871Z",
     "shell.execute_reply.started": "2021-06-07T07:33:50.247768Z"
    },
    "papermill": {
     "duration": 0.636958,
     "end_time": "2021-06-08T10:40:40.811613",
     "exception": false,
     "start_time": "2021-06-08T10:40:40.174655",
     "status": "completed"
    },
    "tags": []
   },
   "outputs": [
    {
     "data": {
      "image/png": "[encoded data removed]",
      "text/plain": [
       "<Figure size 432x288 with 1 Axes>"
      ]
     },
     "metadata": {
      "needs_background": "light"
     },
     "output_type": "display_data"
    },
    {
     "data": {
      "image/png": "[encoded data removed]",
      "text/plain": [
       "<Figure size 432x288 with 1 Axes>"
      ]
     },
     "metadata": {
      "needs_background": "light"
     },
     "output_type": "display_data"
    }
   ],
   "source": [
    "import matplotlib.pyplot as plt\n",
    "plt.plot(history.history['accuracy'])\n",
    "plt.plot(history.history['val_accuracy'])\n",
    "plt.title('Model accuracy')\n",
    "plt.ylabel('Accuracy')\n",
    "plt.xlabel('Epoch')\n",
    "plt.legend(['Train', 'Test'], loc='upper left')\n",
    "plt.show()\n",
    "plt.plot(history.history['loss'])\n",
    "plt.plot(history.history['val_loss'])\n",
    "plt.title('Model loss')\n",
    "plt.ylabel('Loss')\n",
    "plt.xlabel('Epoch')\n",
    "plt.legend(['Train', 'Test'], loc='upper left')\n",
    "plt.show()"
   ]
  }
 ],
 "metadata": {
  "kernelspec": {
   "display_name": "Python 3",
   "language": "python",
   "name": "python3"
  },
  "language_info": {
   "codemirror_mode": {
    "name": "ipython",
    "version": 3
   },
   "file_extension": ".py",
   "mimetype": "text/x-python",
   "name": "python",
   "nbconvert_exporter": "python",
   "pygments_lexer": "ipython3",
   "version": "3.7.10"
  },
  "papermill": {
   "default_parameters": {},
   "duration": 796.945679,
   "end_time": "2021-06-08T10:40:44.120131",
   "environment_variables": {},
   "exception": null,
   "input_path": "__notebook__.ipynb",
   "output_path": "__notebook__.ipynb",
   "parameters": {},
   "start_time": "2021-06-08T10:27:27.174452",
   "version": "2.3.3"
  }
 },
 "nbformat": 4,
 "nbformat_minor": 5
}
